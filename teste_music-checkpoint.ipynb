{
 "cells": [
  {
   "cell_type": "code",
   "execution_count": 1,
   "id": "2325db89",
   "metadata": {},
   "outputs": [],
   "source": [
    "import pandas as pd\n",
    "\n",
    "# Chamada do dataframe principal\n",
    "\n",
    "\n",
    "arquivo2 = (\"tracks.csv\")\n",
    "dataframe2 = pd.read_csv(arquivo2)\n",
    "dataframe2"
   ]
  },
  {
   "cell_type": "code",
   "execution_count": 23,
   "id": "35a5597e",
   "metadata": {},
   "outputs": [],
   "source": [
    "# Colunas transformadas em lista caso seja nescessária alguma manipulação  extra \n",
    "def listagem (dataframe2):\n",
    "    iden = list(dataframe2['id'])\n",
    "    name = list(dataframe2['name'])\n",
    "    popularity = list(dataframe2['popularity'])\n",
    "    duration_ms = list(dataframe2['duration_ms']) \n",
    "    explicit = list(dataframe2['explicit'])\n",
    "    artists = list(dataframe2['artists']) \n",
    "    id_artist = list(dataframe2['id_artists'])\n",
    "    release_date = list(dataframe2['release_date'])\n",
    "    danceability = list(dataframe2['danceability'])\n",
    "    energy = list(dataframe2['energy'])\n",
    "    loudness  = list(dataframe2['loudness'])\n",
    "    mode = list(dataframe2['mode'])\n",
    "    speechiness = list(dataframe2['speechiness'])\n",
    "    acousticness = list(dataframe2['acousticness'])\n",
    "    instrumentalness = list(dataframe2['instrumentalness'])\n",
    "    liveness = list(dataframe2['liveness'])\n",
    "    valence = list(dataframe2['valence'])\n",
    "    tempo = list(dataframe2['tempo']) \n",
    "    time_signature = list(dataframe2['time_signature'])\n",
    "\n"
   ]
  },
  {
   "cell_type": "code",
   "execution_count": 29,
   "id": "1433515f",
   "metadata": {},
   "outputs": [],
   "source": [
    "#formula size gera output da aparições de cada item\n",
    "def contagem  (dataframe2):\n",
    "    c_iden = dataframe2.groupby(['id_artists']).size()\n",
    "    c_release_date = dataframe2.groupby(['release_date']).size()\n",
    "    c_danceability = dataframe2.groupby(['danceability']).size()\n",
    "    c_energy  = dataframe2.groupby(['energy']).size()\n",
    "    c_loudness = dataframe2.groupby(['loudness']).size()\n",
    "    c_mode = dataframe2.groupby(['mode']).size()\n",
    "    c_speechiness =  dataframe2.groupby(['speechiness']).size()\n",
    "    c_acousticness =  dataframe2.groupby(['acousticness']).size()\n",
    "    c_instrumentalness =  dataframe2.groupby(['instrumentalness']).size()\n",
    "    c_liveness = dataframe2.groupby(['liveness']).size()\n",
    "    c_valence = dataframe2.groupby(['valence']).size()\n",
    "    c_tempo = dataframe2.groupby(['tempo']).size()\n",
    "    c_time_signature = dataframe2.groupby(['time_signature']).size()\n"
   ]
  },
  {
   "cell_type": "code",
   "execution_count": 66,
   "id": "ae532c4c",
   "metadata": {},
   "outputs": [],
   "source": [
    "# chamar informações das colunas acima :\n",
    "\n",
    "c_danceability\n"
   ]
  },
  {
   "cell_type": "code",
   "execution_count": 65,
   "id": "e84efe64",
   "metadata": {},
   "outputs": [],
   "source": [
    "# chamar informações das listas acima :\n",
    "artists"
   ]
  },
  {
   "cell_type": "code",
   "execution_count": null,
   "id": "2ff7d387",
   "metadata": {},
   "outputs": [],
   "source": [
    "# Outras ferramentas ...\n",
    "'''\n",
    "dataframe2['artists'].value_counts() \n",
    "dataframe2.iloc[142454]['artists'])\n",
    "dataframe2f.groupby(['artists']).count() \n",
    "\n",
    "(dataframe2['artists'])\n",
    "'''"
   ]
  }
 ],
 "metadata": {
  "kernelspec": {
   "display_name": "Python 3 (ipykernel)",
   "language": "python",
   "name": "python3"
  },
  "language_info": {
   "codemirror_mode": {
    "name": "ipython",
    "version": 3
   },
   "file_extension": ".py",
   "mimetype": "text/x-python",
   "name": "python",
   "nbconvert_exporter": "python",
   "pygments_lexer": "ipython3",
   "version": "3.9.7"
  }
 },
 "nbformat": 4,
 "nbformat_minor": 5
}
