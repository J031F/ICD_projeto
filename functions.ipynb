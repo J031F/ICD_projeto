{
 "cells": [
  {
   "cell_type": "code",
   "execution_count": 1,
   "metadata": {},
   "outputs": [],
   "source": [
    "import pandas as pd"
   ]
  },
  {
   "cell_type": "code",
   "execution_count": 2,
   "metadata": {},
   "outputs": [],
   "source": [
    "def contagem(dataframe):\n",
    "    c_iden = dataframe.groupby(['id_artists']).size()\n",
    "    c_release_date = dataframe.groupby(['release_date']).size()\n",
    "    c_danceability = dataframe.groupby(['danceability']).size()\n",
    "    c_energy = dataframe.groupby(['energy']).size()\n",
    "    c_loudness = dataframe.groupby(['loudness']).size()\n",
    "   #c_mode = dataframe.groupby(['mode']).size()\n",
    "    c_speechiness = dataframe.groupby(['speechiness']).size()\n",
    "    c_acousticness = dataframe.groupby(['acousticness']).size()\n",
    "    c_instrumentalness = dataframe.groupby(['instrumentalness']).size()\n",
    "    c_liveness = dataframe.groupby(['liveness']).size()\n",
    "    c_valence = dataframe.groupby(['valence']).size()\n",
    "    c_tempo = dataframe.groupby(['tempo']).size()\n",
    "    c_time_signature = dataframe.groupby(['time_signature']).size()\n",
    "\n",
    "    return \"awdaw\""
   ]
  },
  {
   "cell_type": "code",
   "execution_count": 3,
   "metadata": {},
   "outputs": [],
   "source": [
    "# Colunas transformadas em lista caso seja nescessária alguma manipulação  extra \n",
    "def listagem (dataframe2):\n",
    "    iden = (dataframe2['id'])\n",
    "    name = (dataframe2['name'])\n",
    "    popularity = (dataframe2['popularity'])\n",
    "    duration_ms = (dataframe2['duration_ms']) \n",
    "    explicit = (dataframe2['explicit'])\n",
    "    artists = (dataframe2['artists']) \n",
    "    id_artist = (dataframe2['id_artists'])\n",
    "    release_date = (dataframe2['release_date'])\n",
    "    danceability = (dataframe2['danceability'])\n",
    "    energy = (dataframe2['energy'])\n",
    "    loudness  = (dataframe2['loudness'])\n",
    "    mode = (dataframe2['mode'])\n",
    "    speechiness = (dataframe2['speechiness'])\n",
    "    acousticness = (dataframe2['acousticness'])\n",
    "    instrumentalness = (dataframe2['instrumentalness'])\n",
    "    liveness = (dataframe2['liveness'])\n",
    "    valence = (dataframe2['valence'])\n",
    "    tempo = (dataframe2['tempo']) \n",
    "    time_signature = (dataframe2['time_signature'])\n",
    "    \n",
    "    l_listagem = pd.Series([iden,name,popularity,duration_ms,explicit,artists,id_artist,release_date,danceability,energy,loudness,mode,speechiness, acousticness ,instrumentalness,liveness,valence,tempo,time_signature],\n",
    "        index=[\"iden\",\"name\",\"popularity\",\"duration_ms\",\"explicit\",\"artists\",\"id_artist\",\"release_date\",\"danceability\",\"energy\",\"loudness\",\"mode\",\"speechiness\",\"instrumentalness\",\"liveness\",\"valence\",\"tempo\",\"time_signature\"])\n",
    "    return l_listagem"
   ]
  }
 ],
 "metadata": {
  "interpreter": {
   "hash": "da325da91ea2bd9fffb9eb33a9d64d0dad1325f8611865e44de77887fdc95dfd"
  },
  "kernelspec": {
   "display_name": "Python 3 (ipykernel)",
   "language": "python",
   "name": "python3"
  },
  "language_info": {
   "codemirror_mode": {
    "name": "ipython",
    "version": 3
   },
   "file_extension": ".py",
   "mimetype": "text/x-python",
   "name": "python",
   "nbconvert_exporter": "python",
   "pygments_lexer": "ipython3",
   "version": "3.9.12"
  }
 },
 "nbformat": 4,
 "nbformat_minor": 4
}
