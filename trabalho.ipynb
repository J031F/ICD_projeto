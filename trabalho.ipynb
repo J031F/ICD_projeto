{
 "cells": [
  {
   "cell_type": "code",
   "execution_count": 23,
   "metadata": {},
   "outputs": [],
   "source": [
    "import pandas as pd\n",
    "from collections import Counter\n",
    "lista = pd.Series([[25,36,25,14,36,25],[74,85,96,74,85,96],[78,45,12,78,45,12]],\n",
    "                    index=[\"t\",\"q\",\"p\"])"
   ]
  },
  {
   "cell_type": "code",
   "execution_count": 34,
   "metadata": {},
   "outputs": [
    {
     "name": "stdout",
     "output_type": "stream",
     "text": [
      "modas = [74, 85, 96]\n"
     ]
    }
   ],
   "source": [
    "def moda(lispan):\n",
    "    comuns = Counter(lispan).most_common()\n",
    "    if (comuns[0][1]!=comuns[1][1]):\n",
    "        return(f\"moda = {comuns[0][0]}\")\n",
    "    else:\n",
    "        modas=[comuns[0][0],comuns[1][0]]\n",
    "        contador=2\n",
    "        while(comuns[0][1]==comuns[contador][1]):\n",
    "            modas.append(comuns[contador][0])\n",
    "            contador+=1\n",
    "            if contador==len(Counter(lispan)):\n",
    "                break\n",
    "        return(f\"modas = {modas}\")\n",
    "\n"
   ]
  },
  {
   "cell_type": "code",
   "execution_count": 35,
   "metadata": {},
   "outputs": [
    {
     "name": "stdout",
     "output_type": "stream",
     "text": [
      "t\n",
      "quantidade = 6.0\n",
      "media = 26.833333333333332\n",
      "mediana = 25.0\n",
      "moda = 25\n",
      "desvio padrão = 8.28049917979989\n",
      "menor = 14.0\n",
      "maior = 36.0\n",
      "\n",
      "\n",
      "q\n",
      "quantidade = 6.0\n",
      "media = 85.0\n",
      "mediana = 85.0\n",
      "modas = [74, 85, 96]\n",
      "desvio padrão = 9.838699100999074\n",
      "menor = 74.0\n",
      "maior = 96.0\n",
      "\n",
      "\n",
      "p\n",
      "quantidade = 6.0\n",
      "media = 45.0\n",
      "mediana = 45.0\n",
      "modas = [78, 45, 12]\n",
      "desvio padrão = 29.516097302997224\n",
      "menor = 12.0\n",
      "maior = 78.0\n",
      "\n",
      "\n"
     ]
    }
   ],
   "source": [
    "def detalhes(lista):\n",
    "    doindex=0\n",
    "    for x in lista:\n",
    "        print(lista.index[doindex])\n",
    "        doindex+=1\n",
    "        pand=pd.Series(x)\n",
    "        y=pand.describe()\n",
    "        valores=[\"quantidade\",\"media\",\"mediana\",\"moda\",\"desvio padrão\",\"menor\",\"%25\",\"%50\",\"%75\",\"maior\"]\n",
    "        contador=0\n",
    "        for h in y:\n",
    "            if contador==2:\n",
    "                print(f\"{valores[contador]} = {pand.median()}\")\n",
    "                contador+=1\n",
    "                print(moda(pand))\n",
    "                contador+=1\n",
    "            if (contador>8) or (contador<6):\n",
    "                print(f\"{valores[contador]} = {h}\")\n",
    "            contador+=1\n",
    "        print(\"\\n\")\n",
    "detalhes(lista)"
   ]
  }
 ],
 "metadata": {
  "interpreter": {
   "hash": "acac2e827434c3209bc72ec96494a0c2258ec6761ce44c6c97518d789235ac1b"
  },
  "kernelspec": {
   "display_name": "Python 3.9.12 64-bit (windows store)",
   "language": "python",
   "name": "python3"
  },
  "language_info": {
   "codemirror_mode": {
    "name": "ipython",
    "version": 3
   },
   "file_extension": ".py",
   "mimetype": "text/x-python",
   "name": "python",
   "nbconvert_exporter": "python",
   "pygments_lexer": "ipython3",
   "version": "3.9.12"
  },
  "orig_nbformat": 4
 },
 "nbformat": 4,
 "nbformat_minor": 2
}
